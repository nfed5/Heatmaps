{
 "cells": [
  {
   "cell_type": "code",
   "execution_count": 1,
   "metadata": {},
   "outputs": [],
   "source": [
    "prime = 'C:\\\\Users\\\\i00272\\\\Desktop\\\\primenumbers.txt'\n",
    "happy = 'C:\\\\Users\\\\i00272\\\\Desktop\\\\happynumbers.txt'"
   ]
  },
  {
   "cell_type": "code",
   "execution_count": null,
   "metadata": {},
   "outputs": [],
   "source": [
    "#Given two .txt files that have lists of numbers in them, find the numbers that are overlapping. One .txt file has a list \n",
    "#of all prime numbers under 1000, \n",
    "#and the other .txt file has a list of happy numbers up to 1000."
   ]
  },
  {
   "cell_type": "code",
   "execution_count": 18,
   "metadata": {},
   "outputs": [
    {
     "name": "stdout",
     "output_type": "stream",
     "text": [
      "['2', '3', '5', '7', '11', '13', '17', '19', '23', '29', '31', '37', '41', '43', '47', '53', '59', '61', '67', '71', '73', '79', '83', '89', '97', '101', '103', '107', '109', '113', '127', '131', '137', '139', '149', '151', '157', '163', '167', '173', '179', '181', '191', '193', '197', '199', '211', '223', '227', '229', '233', '239', '241', '251', '257', '263', '269', '271', '277', '281', '283', '293', '307', '311', '313', '317', '331', '337', '347', '349', '353', '359', '367', '373', '379', '383', '389', '397', '401', '409', '419', '421', '431', '433', '439', '443', '449', '457', '461', '463', '467', '479', '487', '491', '499', '503', '509', '521', '523', '541', '547', '557', '563', '569', '571', '577', '587', '593', '599', '601', '607', '613', '617', '619', '631', '641', '643', '647', '653', '659', '661', '673', '677', '683', '691', '701', '709', '719', '727', '733', '739', '743', '751', '757', '761', '769', '773', '787', '797', '809', '811', '821', '823', '827', '829', '839', '853', '857', '859', '863', '877', '881', '883', '887', '907', '911', '919', '929', '937', '941', '947', '953', '967', '971', '977', '983', '991', '997']\n",
      "['1', '7', '10', '13', '19', '23', '28', '31', '32', '44', '49', '68', '70', '79', '82', '86', '91', '94', '97', '100', '103', '109', '129', '130', '133', '139', '167', '176', '188', '190', '192', '193', '203', '208', '219', '226', '230', '236', '239', '262', '263', '280', '291', '293', '301', '302', '310', '313', '319', '320', '326', '329', '331', '338', '356', '362', '365', '367', '368', '376', '379', '383', '386', '391', '392', '397', '404', '409', '440', '446', '464', '469', '478', '487', '490', '496', '536', '556', '563', '565', '566', '608', '617', '622', '623', '632', '635', '637', '638', '644', '649', '653', '655', '656', '665', '671', '673', '680', '683', '694', '700', '709', '716', '736', '739', '748', '761', '763', '784', '790', '793', '802', '806', '818', '820', '833', '836', '847', '860', '863', '874', '881', '888', '899', '901', '904', '907', '910', '912', '913', '921', '923', '931', '932', '937', '940', '946', '964', '970', '973', '989', '998', '1000']\n"
     ]
    }
   ],
   "source": [
    "with open(prime, 'r') as primes:\n",
    "    read_file = primes.read()\n",
    "    prime_list = read_file.split()\n",
    "    \n",
    "    print(prime_list)\n",
    "    \n",
    "with open(happy, 'r') as happy:\n",
    "    read = happy.read()\n",
    "    happy_list = read.split()\n",
    "    \n",
    "    print(happy_list)"
   ]
  },
  {
   "cell_type": "code",
   "execution_count": 20,
   "metadata": {},
   "outputs": [
    {
     "name": "stdout",
     "output_type": "stream",
     "text": [
      "[7, 13, 19, 23, 31, 79, 97, 103, 109, 139, 167, 193, 239, 263, 293, 313, 331, 367, 379, 383, 397, 409, 487, 563, 617, 653, 673, 683, 709, 739, 761, 863, 881, 907, 937]\n"
     ]
    }
   ],
   "source": [
    "overlaps = []\n",
    "for num in prime_list:\n",
    "    if num in happy_list:\n",
    "        overlaps.append(int(num))\n",
    "        \n",
    "print(overlaps)"
   ]
  },
  {
   "cell_type": "markdown",
   "metadata": {},
   "source": [
    "# Function to search a text file for duplicates"
   ]
  },
  {
   "cell_type": "code",
   "execution_count": 84,
   "metadata": {},
   "outputs": [
    {
     "name": "stdout",
     "output_type": "stream",
     "text": [
      "['7', '13', '19', '23', '31', '79', '97', '103', '109', '139', '167', '193', '239', '263', '293', '313', '331', '367', '379', '383', '397', '409', '487', '563', '617', '653', '673', '683', '709', '739', '761', '863', '881', '907', '937']\n"
     ]
    }
   ],
   "source": [
    "file1 = 'C:\\\\Users\\\\i00272\\\\Desktop\\\\primenumbers.txt'\n",
    "file2 = 'C:\\\\Users\\\\i00272\\\\Desktop\\\\happynumbers.txt'\n",
    "\n",
    "def get_list(filename):\n",
    "    with open(filename, 'r') as file:\n",
    "        read = file.read()\n",
    "        num_or_word_list = read.split()\n",
    "        \n",
    "    return num_or_word_list\n",
    "           \n",
    "primes = get_list(file1)\n",
    "happys = get_list(file2)\n",
    "\n",
    "overlaps = [num for num in primes if num in happys]\n",
    "print(overlaps)"
   ]
  }
 ],
 "metadata": {
  "kernelspec": {
   "display_name": "Python 3",
   "language": "python",
   "name": "python3"
  },
  "language_info": {
   "codemirror_mode": {
    "name": "ipython",
    "version": 3
   },
   "file_extension": ".py",
   "mimetype": "text/x-python",
   "name": "python",
   "nbconvert_exporter": "python",
   "pygments_lexer": "ipython3",
   "version": "3.7.4"
  }
 },
 "nbformat": 4,
 "nbformat_minor": 2
}
